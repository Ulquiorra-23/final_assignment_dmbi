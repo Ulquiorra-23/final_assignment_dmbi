{
 "cells": [
  {
   "cell_type": "code",
   "execution_count": null,
   "metadata": {},
   "outputs": [],
   "source": [
    "# Importing standard libraries\n",
    "import os\n",
    "\n",
    "# Importing third party libraries\n",
    "import yaml\n",
    "import pandas as pd\n",
    "import mysql.connector\n",
    "from sqlalchemy import create_engine"
   ]
  },
  {
   "cell_type": "code",
   "execution_count": null,
   "metadata": {},
   "outputs": [],
   "source": [
    "FILENAME = os.path.join(os.getcwd(), 'creds.yaml')"
   ]
  },
  {
   "cell_type": "code",
   "execution_count": null,
   "metadata": {},
   "outputs": [],
   "source": [
    "with open(FILENAME, \"r\") as file:\n",
    "    creds = yaml.safe_load(file)"
   ]
  },
  {
   "cell_type": "code",
   "execution_count": null,
   "metadata": {},
   "outputs": [],
   "source": [
    "QUERY_CREATE_ZIPCODE_DIM_TABLE ='''\n",
    "CREATE TABLE IF NOT EXISTS zipcode_dim (\n",
    "  zipcode_id int NOT NULL AUTO_INCREMENT PRIMARY KEY,\n",
    "  zipcode varchar(50) NOT NULL,\n",
    "  zc_latitude float NOT NULL,\n",
    "  zc_longitude float NOT NULL,\n",
    "  autonomous_community varchar(50) NOT NULL,\n",
    "  autonomous_community_nk varchar(50) NOT NULL,\n",
    "  province varchar(50) NOT NULL\n",
    ");\n",
    "'''"
   ]
  },
  {
   "cell_type": "code",
   "execution_count": null,
   "metadata": {},
   "outputs": [],
   "source": [
    "QUERY_CREATE_WEATHER_DIM_TABLE = '''\n",
    "CREATE TABLE IF NOT EXISTS weather_dim (\n",
    "  weather_id int NOT NULL AUTO_INCREMENT PRIMARY KEY,\n",
    "  zipcode_id int NOT NULL,\n",
    "  year int NOT NULL,\n",
    "  avg_temperature float NOT NULL,\n",
    "  avg_relative_humidity float NOT NULL,\n",
    "  avg_precipitation_rate float NOT NULL,\n",
    "  avg_wind_speed float NOT NULL,\n",
    "  Foreign Key (zipcode_id) references zipcode_dim(zipcode_id)\n",
    ");\n",
    "'''"
   ]
  },
  {
   "cell_type": "code",
   "execution_count": null,
   "metadata": {},
   "outputs": [],
   "source": [
    "QUERY_CREATE_SALES_FT_TABLE = '''\n",
    "CREATE TABLE IF NOT EXISTS sales_fact (\n",
    "  sales_id int NOT NULL AUTO_INCREMENT PRIMARY KEY,\n",
    "  zipcode_id int NOT NULL,\n",
    "  lead_id varchar(50) NOT NULL,\n",
    "  financing_type varchar(50) NOT NULL,\n",
    "  current_phase varchar(50) NOT NULL,\n",
    "  phase_pre_ko varchar(50) NOT NULL,\n",
    "  is_modified int,\n",
    "  offer_sent_date date NOT NULL,\n",
    "  contract_1_dispatch_date date NOT NULL,\n",
    "  contract_2_dispatch_date date NOT NULL,\n",
    "  contract_1_signature_date date NOT NULL,\n",
    "  contract_2_signature_date date NOT NULL,\n",
    "  most_recent_contract_signature_date date NOT NULL,\n",
    "  visit_date date NOT NULL,\n",
    "  technical_review_date date NOT NULL,\n",
    "  project_validation_date date NOT NULL,\n",
    "  sale_dismissal_date date NOT NULL,\n",
    "  ko_date date NOT NULL,\n",
    "  visiting_company varchar(50) NOT NULL,\n",
    "  ko_reason varchar(50) NOT NULL,\n",
    "  installation_peak_power_kwf float NOT NULL,\n",
    "  installation_price float NOT NULL,\n",
    "  n_panels smallint,\n",
    "  customer_type varchar(50) NOT NULL,\n",
    "  Foreign Key (zipcode_id) references zipcode_dim(zipcode_id)\n",
    ");\n",
    "'''\t\t\t\t\t\t"
   ]
  },
  {
   "cell_type": "code",
   "execution_count": null,
   "metadata": {},
   "outputs": [],
   "source": [
    "def create_table():\n",
    "    connection = mysql.connector.connect(\n",
    "        user = creds['mysql-db']['username'],\n",
    "        password = creds['mysql-db']['password'],\n",
    "        host = creds['mysql-db']['host'],\n",
    "        database = creds['mysql-db']['database'],\n",
    "    )\n",
    "    cursor = connection.cursor()\n",
    "    \n",
    "    cursor.execute(QUERY_CREATE_ZIPCODE_DIM_TABLE)\n",
    "    cursor.execute(QUERY_CREATE_WEATHER_DIM_TABLE)\n",
    "    cursor.execute(QUERY_CREATE_SALES_FT_TABLE)\n",
    "    connection.commit()\n",
    "    print(\"Table structures created successfully.\")\n",
    "    \n",
    "    cursor.close()\n",
    "    connection.close()"
   ]
  },
  {
   "cell_type": "code",
   "execution_count": null,
   "metadata": {},
   "outputs": [],
   "source": []
  },
  {
   "cell_type": "code",
   "execution_count": null,
   "metadata": {},
   "outputs": [],
   "source": [
    "def write_to_database(dfs_dict, if_exists='append'):\n",
    "    \"\"\"\n",
    "    Write a dataframe into a MySql table.\n",
    "\n",
    "    Args:\n",
    "        dfs_dict: The list of tables to load along with the dfs to insert.\n",
    "        if_exists (str): Default 'append'. Other values are 'fail' and 'replace'\n",
    "    \"\"\"\n",
    "\n",
    "    dfs_dict = {\n",
    "        \"zipcode_dim\": list_of_transformed_dfs[0],\n",
    "        \"weather_dim\": list_of_transformed_dfs[1],\n",
    "        \"sales_fact\": list_of_transformed_dfs[2]\n",
    "    }\n",
    "\n",
    "    _db_user = creds['username']\n",
    "    _db_password = creds['password']\n",
    "    _db_host = creds['host']\n",
    "    _db_name = creds['database']\n",
    "    engine = create_engine(f\"mysql+pymysql://{_db_user}:{_db_password}@{_db_host}:3306/{_db_name}\")\n",
    "    with engine.connect() as connection:\n",
    "        for table_name, df in dfs_dict.items():\n",
    "            if isinstance(df, pd.DataFrame): \n",
    "                df.to_sql(table_name, con=connection, if_exists=if_exists, index=False)\n",
    "                print(f\"Data successfully inserted into {table_name}\")\n",
    "            else:\n",
    "                print(f\"Skipping {table_name}: Not a valid DataFrame\")\n",
    "    \n",
    "    # return logger.info(\"Completed uploading all data..\")"
   ]
  },
  {
   "cell_type": "code",
   "execution_count": null,
   "metadata": {},
   "outputs": [],
   "source": [
    "if __name__ == \"__main__\":\n",
    "    create_table()\n",
    "    # write_to_database(dfs_dict)"
   ]
  }
 ],
 "metadata": {
  "kernelspec": {
   "display_name": "Python 3",
   "language": "python",
   "name": "python3"
  },
  "language_info": {
   "codemirror_mode": {
    "name": "ipython",
    "version": 3
   },
   "file_extension": ".py",
   "mimetype": "text/x-python",
   "name": "python",
   "nbconvert_exporter": "python",
   "pygments_lexer": "ipython3",
   "version": "3.12.6"
  }
 },
 "nbformat": 4,
 "nbformat_minor": 2
}
