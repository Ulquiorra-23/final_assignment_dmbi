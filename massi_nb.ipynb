{
 "cells": [
  {
   "cell_type": "code",
   "execution_count": 6,
   "metadata": {},
   "outputs": [],
   "source": [
    "import os\n",
    "import pandas as pd"
   ]
  },
  {
   "cell_type": "code",
   "execution_count": 50,
   "metadata": {},
   "outputs": [],
   "source": [
    "DATA_PATH = os.path.join(os.getcwd(), 'data\\\\')\n",
    "METEO_TYPES = {'temperature':'float64','relative_humidity':'float64',\n",
    "               'precipitation_rate':'float64','wind_speed':'float64',\n",
    "               'zipcode':'str'}\n",
    "SALES_TYPES={'LEAD_ID': str,'FINANCING_TYPE': str,'CURRENT_PHASE': str,'PHASE_PRE_KO': str,\n",
    "            'IS_MODIFIED': 'int8','ZIPCODE': str,'VISITING_COMPANY': str,'KO_REASON': str,\n",
    "            'INSTALLATION_PEAK_POWER_KW': float,'INSTALLATION_PRICE': float,'N_PANELS': int,\n",
    "            'CUSOMER_TYPE': str}\n",
    "SALES_DATES=['OFFER_SENT_DATE','CONTRACT_1_DISPATCH_DATE','CONTRACT_2_DISPATCH_DATE',\n",
    "        'CONTRACT_1_SIGNATURE_DATE','CONTRACT_2_SIGNATURE_DATE','VISIT_DATE',\n",
    "        'TECHNICAL_REVIEW_DATE','PROJECT_VALIDATION_DATE','SALE_DISMISSAL_DATE',\n",
    "        'KO_DATE']\n",
    "ZIPCODE_TYPES = {'ZIPCODE':'str','ZC_LATITUDE':'float64',\n",
    "                 'ZC_LONGITUDE':'float64','AUTONOMOUS_COMMUNITY':'str',\n",
    "                 'AUTONOMOUS_COMMUNITY_NK':'str','PROVINCE':'str'}"
   ]
  },
  {
   "cell_type": "code",
   "execution_count": 29,
   "metadata": {},
   "outputs": [],
   "source": [
    "df_meteo = pd.read_csv(DATA_PATH+'meteo_eae.csv', delimiter=';',dtype=METEO_TYPES, parse_dates=['date'])"
   ]
  },
  {
   "cell_type": "code",
   "execution_count": 44,
   "metadata": {},
   "outputs": [],
   "source": [
    "df_sales = pd.read_csv(DATA_PATH+'sale_phases_funnel.csv', delimiter=';', dtype=SALES_TYPES, parse_dates=SALES_DATES, dayfirst=True)\n",
    "df_sales['ZIPCODE'] = df_sales['ZIPCODE'].astype(str).str.zfill(5)"
   ]
  },
  {
   "cell_type": "code",
   "execution_count": 48,
   "metadata": {},
   "outputs": [],
   "source": [
    "df_zipcode = pd.read_csv(DATA_PATH+'zipcode_eae_v2.csv', dtype=ZIPCODE_TYPES)"
   ]
  },
  {
   "cell_type": "code",
   "execution_count": 49,
   "metadata": {},
   "outputs": [
    {
     "data": {
      "text/html": [
       "<div>\n",
       "<style scoped>\n",
       "    .dataframe tbody tr th:only-of-type {\n",
       "        vertical-align: middle;\n",
       "    }\n",
       "\n",
       "    .dataframe tbody tr th {\n",
       "        vertical-align: top;\n",
       "    }\n",
       "\n",
       "    .dataframe thead th {\n",
       "        text-align: right;\n",
       "    }\n",
       "</style>\n",
       "<table border=\"1\" class=\"dataframe\">\n",
       "  <thead>\n",
       "    <tr style=\"text-align: right;\">\n",
       "      <th></th>\n",
       "      <th>ZIPCODE</th>\n",
       "      <th>ZC_LATITUDE</th>\n",
       "      <th>ZC_LONGITUDE</th>\n",
       "      <th>AUTONOMOUS_COMMUNITY</th>\n",
       "      <th>AUTONOMOUS_COMMUNITY_NK</th>\n",
       "      <th>PROVINCE</th>\n",
       "    </tr>\n",
       "  </thead>\n",
       "  <tbody>\n",
       "    <tr>\n",
       "      <th>0</th>\n",
       "      <td>01001</td>\n",
       "      <td>42.8500</td>\n",
       "      <td>-2.6667</td>\n",
       "      <td>Pais Vasco</td>\n",
       "      <td>PV</td>\n",
       "      <td>Álava</td>\n",
       "    </tr>\n",
       "    <tr>\n",
       "      <th>1</th>\n",
       "      <td>07119</td>\n",
       "      <td>39.6833</td>\n",
       "      <td>2.7000</td>\n",
       "      <td>Baleares</td>\n",
       "      <td>IB</td>\n",
       "      <td>Illes Balears</td>\n",
       "    </tr>\n",
       "    <tr>\n",
       "      <th>2</th>\n",
       "      <td>07110</td>\n",
       "      <td>39.6833</td>\n",
       "      <td>2.7000</td>\n",
       "      <td>Baleares</td>\n",
       "      <td>IB</td>\n",
       "      <td>Illes Balears</td>\n",
       "    </tr>\n",
       "    <tr>\n",
       "      <th>3</th>\n",
       "      <td>07109</td>\n",
       "      <td>39.7833</td>\n",
       "      <td>2.7333</td>\n",
       "      <td>Baleares</td>\n",
       "      <td>IB</td>\n",
       "      <td>Illes Balears</td>\n",
       "    </tr>\n",
       "    <tr>\n",
       "      <th>4</th>\n",
       "      <td>07108</td>\n",
       "      <td>39.8000</td>\n",
       "      <td>2.6833</td>\n",
       "      <td>Baleares</td>\n",
       "      <td>IB</td>\n",
       "      <td>Illes Balears</td>\n",
       "    </tr>\n",
       "  </tbody>\n",
       "</table>\n",
       "</div>"
      ],
      "text/plain": [
       "  ZIPCODE  ZC_LATITUDE  ZC_LONGITUDE AUTONOMOUS_COMMUNITY  \\\n",
       "0   01001      42.8500       -2.6667           Pais Vasco   \n",
       "1   07119      39.6833        2.7000             Baleares   \n",
       "2   07110      39.6833        2.7000             Baleares   \n",
       "3   07109      39.7833        2.7333             Baleares   \n",
       "4   07108      39.8000        2.6833             Baleares   \n",
       "\n",
       "  AUTONOMOUS_COMMUNITY_NK       PROVINCE  \n",
       "0                      PV          Álava  \n",
       "1                      IB  Illes Balears  \n",
       "2                      IB  Illes Balears  \n",
       "3                      IB  Illes Balears  \n",
       "4                      IB  Illes Balears  "
      ]
     },
     "execution_count": 49,
     "metadata": {},
     "output_type": "execute_result"
    }
   ],
   "source": [
    "df_zipcode.head()"
   ]
  },
  {
   "cell_type": "code",
   "execution_count": 1,
   "metadata": {},
   "outputs": [
    {
     "ename": "NameError",
     "evalue": "name 'dfuibhdihie' is not defined",
     "output_type": "error",
     "traceback": [
      "\u001b[1;31m---------------------------------------------------------------------------\u001b[0m",
      "\u001b[1;31mNameError\u001b[0m                                 Traceback (most recent call last)",
      "Cell \u001b[1;32mIn[1], line 1\u001b[0m\n\u001b[1;32m----> 1\u001b[0m \u001b[43mdfuibhdihie\u001b[49m\n",
      "\u001b[1;31mNameError\u001b[0m: name 'dfuibhdihie' is not defined"
     ]
    }
   ],
   "source": [
    "dfuibhdihie"
   ]
  },
  {
   "cell_type": "code",
   "execution_count": null,
   "metadata": {},
   "outputs": [],
   "source": []
  }
 ],
 "metadata": {
  "kernelspec": {
   "display_name": "Python 3",
   "language": "python",
   "name": "python3"
  },
  "language_info": {
   "codemirror_mode": {
    "name": "ipython",
    "version": 3
   },
   "file_extension": ".py",
   "mimetype": "text/x-python",
   "name": "python",
   "nbconvert_exporter": "python",
   "pygments_lexer": "ipython3",
   "version": "3.12.5"
  }
 },
 "nbformat": 4,
 "nbformat_minor": 2
}
